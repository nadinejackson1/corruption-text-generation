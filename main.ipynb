{
 "cells": [
  {
   "cell_type": "code",
   "execution_count": 15,
   "metadata": {},
   "outputs": [],
   "source": [
    "# import libraries\n",
    "import numpy as np\n",
    "import pandas as pd\n",
    "import tensorflow as tf\n",
    "from tensorflow.keras.models import Sequential\n",
    "from tensorflow.keras.layers import LSTM, Dense, Dropout, Embedding\n",
    "from tensorflow.keras.preprocessing.text import Tokenizer\n",
    "from tensorflow.keras.preprocessing.sequence import pad_sequences\n",
    "from tensorflow.keras.callbacks import ModelCheckpoint, EarlyStopping"
   ]
  },
  {
   "cell_type": "code",
   "execution_count": 18,
   "metadata": {},
   "outputs": [],
   "source": [
    "# Load dataset \n",
    "data = pd.read_csv('/Users/nadinejackson/Downloads/corruption-perceptions-index-cpi.csv')\n",
    "\n",
    "# Convert data into DataFrame\n",
    "data = pd.DataFrame([\n",
    "    ['Benin', 42, 41, 41, 40, 39, 36, 37, 39, 36, 36],\n",
    "    ['Botswana', 55, 60, 61, 61, 61, 60, 63, 63, 64, 65],\n",
    "    ['Cabo Verde', 58, 58, 58, 57, 55, 59, 55, 57, 58, 60],\n",
    "    ['Ethiopia', 39, 38, 37, 34, 35, 34, 33, 33, 33, 33],\n",
    "    ['Kenya', 30, 31, 28, 27, 28, 26, 25, 25, 27, 27],\n",
    "    ['Nigeria', 24, 25, 26, 27, 27, 28, 26, 27, 25, 27],\n",
    "    ['Senegal', 43, 45, 45, 45, 45, 45, 44, 43, 41, 36],\n",
    "    ['South Africa', 44, 44, 44, 43, 43, 45, 44, 44, 42, 43],\n",
    "    ['Sudan', 20, 16, 16, 16, 16, 14, 12, 11, 11, 13],\n",
    "    ['Tanzania', 39, 38, 37, 36, 36, 32, 30, 31, 33, 35],\n",
    "    ['Zambia', 33, 33, 34, 35, 37, 38, 38, 38, 38, 37]\n",
    "], columns=['Country', 2021, 2020, 2019, 2018, 2017, 2016, 2015, 2014, 2013, 2012])\n"
   ]
  },
  {
   "cell_type": "code",
   "execution_count": 19,
   "metadata": {},
   "outputs": [],
   "source": [
    "# Preprocess the data\n",
    "text_data = ''\n",
    "for _, row in data.iterrows():\n",
    "    country = row['Country']\n",
    "    for year in range(2012, 2022):\n",
    "        text_data += f\"{country} has a corruption score of {row[year]} in {year}. \"\n",
    "\n",
    "tokenizer = Tokenizer(char_level=True)\n",
    "tokenizer.fit_on_texts([text_data])\n",
    "\n",
    "sequence_data = tokenizer.texts_to_sequences([text_data])[0]\n",
    "vocab_size = len(tokenizer.word_index) + 1\n",
    "\n",
    "seq_length = 100\n",
    "input_sequences = []\n",
    "output_char = []\n",
    "\n",
    "for i in range(0, len(sequence_data) - seq_length):\n",
    "    input_sequences.append(sequence_data[i:i+seq_length])\n",
    "    output_char.append(sequence_data[i+seq_length])\n",
    "\n",
    "X = np.array(input_sequences)\n",
    "y = tf.keras.utils.to_categorical(output_char, num_classes=vocab_size)\n"
   ]
  },
  {
   "cell_type": "code",
   "execution_count": 20,
   "metadata": {},
   "outputs": [],
   "source": [
    "# Tokenize and pad the sequences\n",
    "tokenizer = Tokenizer(char_level=True)\n",
    "tokenizer.fit_on_texts([text_data])\n",
    "\n",
    "sequence_data = tokenizer.texts_to_sequences([text_data])[0]\n",
    "vocab_size = len(tokenizer.word_index) + 1\n",
    "\n",
    "seq_length = 100\n",
    "input_sequences = []\n",
    "output_char = []\n",
    "\n",
    "for i in range(0, len(sequence_data) - seq_length):\n",
    "    input_sequences.append(sequence_data[i:i+seq_length])\n",
    "    output_char.append(sequence_data[i+seq_length])\n",
    "\n",
    "X = np.array(input_sequences)\n",
    "y = tf.keras.utils.to_categorical(output_char, num_classes=vocab_size)"
   ]
  },
  {
   "cell_type": "code",
   "execution_count": 21,
   "metadata": {},
   "outputs": [
    {
     "name": "stderr",
     "output_type": "stream",
     "text": [
      "2023-04-27 10:25:00.501635: I tensorflow/core/common_runtime/executor.cc:1197] [/device:CPU:0] (DEBUG INFO) Executor start aborting (this does not indicate an error and you can ignore this message): INVALID_ARGUMENT: You must feed a value for placeholder tensor 'gradients/split_2_grad/concat/split_2/split_dim' with dtype int32\n",
      "\t [[{{node gradients/split_2_grad/concat/split_2/split_dim}}]]\n",
      "2023-04-27 10:25:00.507384: I tensorflow/core/common_runtime/executor.cc:1197] [/device:CPU:0] (DEBUG INFO) Executor start aborting (this does not indicate an error and you can ignore this message): INVALID_ARGUMENT: You must feed a value for placeholder tensor 'gradients/split_grad/concat/split/split_dim' with dtype int32\n",
      "\t [[{{node gradients/split_grad/concat/split/split_dim}}]]\n",
      "2023-04-27 10:25:00.512307: I tensorflow/core/common_runtime/executor.cc:1197] [/device:CPU:0] (DEBUG INFO) Executor start aborting (this does not indicate an error and you can ignore this message): INVALID_ARGUMENT: You must feed a value for placeholder tensor 'gradients/split_1_grad/concat/split_1/split_dim' with dtype int32\n",
      "\t [[{{node gradients/split_1_grad/concat/split_1/split_dim}}]]\n"
     ]
    },
    {
     "name": "stdout",
     "output_type": "stream",
     "text": [
      "Model: \"sequential\"\n",
      "_________________________________________________________________\n",
      " Layer (type)                Output Shape              Param #   \n",
      "=================================================================\n",
      " embedding (Embedding)       (None, 100, 128)          4608      \n",
      "                                                                 \n",
      " lstm (LSTM)                 (None, 100, 256)          394240    \n",
      "                                                                 \n",
      " dropout (Dropout)           (None, 100, 256)          0         \n",
      "                                                                 \n",
      " lstm_1 (LSTM)               (None, 256)               525312    \n",
      "                                                                 \n",
      " dense (Dense)               (None, 36)                9252      \n",
      "                                                                 \n",
      "=================================================================\n",
      "Total params: 933,412\n",
      "Trainable params: 933,412\n",
      "Non-trainable params: 0\n",
      "_________________________________________________________________\n"
     ]
    },
    {
     "name": "stderr",
     "output_type": "stream",
     "text": [
      "2023-04-27 10:25:00.879730: I tensorflow/core/common_runtime/executor.cc:1197] [/device:CPU:0] (DEBUG INFO) Executor start aborting (this does not indicate an error and you can ignore this message): INVALID_ARGUMENT: You must feed a value for placeholder tensor 'gradients/split_2_grad/concat/split_2/split_dim' with dtype int32\n",
      "\t [[{{node gradients/split_2_grad/concat/split_2/split_dim}}]]\n",
      "2023-04-27 10:25:00.881932: I tensorflow/core/common_runtime/executor.cc:1197] [/device:CPU:0] (DEBUG INFO) Executor start aborting (this does not indicate an error and you can ignore this message): INVALID_ARGUMENT: You must feed a value for placeholder tensor 'gradients/split_grad/concat/split/split_dim' with dtype int32\n",
      "\t [[{{node gradients/split_grad/concat/split/split_dim}}]]\n",
      "2023-04-27 10:25:00.883836: I tensorflow/core/common_runtime/executor.cc:1197] [/device:CPU:0] (DEBUG INFO) Executor start aborting (this does not indicate an error and you can ignore this message): INVALID_ARGUMENT: You must feed a value for placeholder tensor 'gradients/split_1_grad/concat/split_1/split_dim' with dtype int32\n",
      "\t [[{{node gradients/split_1_grad/concat/split_1/split_dim}}]]\n"
     ]
    }
   ],
   "source": [
    "# Define the RNN model using LSTM layers\n",
    "model = Sequential()\n",
    "model.add(Embedding(vocab_size, 128, input_length=seq_length))\n",
    "model.add(LSTM(256, return_sequences=True))\n",
    "model.add(Dropout(0.2))\n",
    "model.add(LSTM(256))\n",
    "model.add(Dense(vocab_size, activation='softmax'))\n",
    "\n",
    "model.compile(loss='categorical_crossentropy', optimizer='adam', metrics=['accuracy'])\n",
    "model.summary()"
   ]
  },
  {
   "cell_type": "code",
   "execution_count": 23,
   "metadata": {},
   "outputs": [
    {
     "name": "stdout",
     "output_type": "stream",
     "text": [
      "Epoch 1/100\n",
      "63/63 [==============================] - ETA: 0s - loss: 0.5833 - accuracy: 0.8267"
     ]
    },
    {
     "name": "stderr",
     "output_type": "stream",
     "text": [
      "2023-04-27 10:35:16.130740: I tensorflow/core/common_runtime/executor.cc:1197] [/device:CPU:0] (DEBUG INFO) Executor start aborting (this does not indicate an error and you can ignore this message): INVALID_ARGUMENT: You must feed a value for placeholder tensor 'gradients/split_2_grad/concat/split_2/split_dim' with dtype int32\n",
      "\t [[{{node gradients/split_2_grad/concat/split_2/split_dim}}]]\n",
      "2023-04-27 10:35:16.136286: I tensorflow/core/common_runtime/executor.cc:1197] [/device:CPU:0] (DEBUG INFO) Executor start aborting (this does not indicate an error and you can ignore this message): INVALID_ARGUMENT: You must feed a value for placeholder tensor 'gradients/split_grad/concat/split/split_dim' with dtype int32\n",
      "\t [[{{node gradients/split_grad/concat/split/split_dim}}]]\n",
      "2023-04-27 10:35:16.157494: I tensorflow/core/common_runtime/executor.cc:1197] [/device:CPU:0] (DEBUG INFO) Executor start aborting (this does not indicate an error and you can ignore this message): INVALID_ARGUMENT: You must feed a value for placeholder tensor 'gradients/split_1_grad/concat/split_1/split_dim' with dtype int32\n",
      "\t [[{{node gradients/split_1_grad/concat/split_1/split_dim}}]]\n",
      "2023-04-27 10:35:16.677508: I tensorflow/core/common_runtime/executor.cc:1197] [/device:CPU:0] (DEBUG INFO) Executor start aborting (this does not indicate an error and you can ignore this message): INVALID_ARGUMENT: You must feed a value for placeholder tensor 'gradients/split_2_grad/concat/split_2/split_dim' with dtype int32\n",
      "\t [[{{node gradients/split_2_grad/concat/split_2/split_dim}}]]\n",
      "2023-04-27 10:35:16.680902: I tensorflow/core/common_runtime/executor.cc:1197] [/device:CPU:0] (DEBUG INFO) Executor start aborting (this does not indicate an error and you can ignore this message): INVALID_ARGUMENT: You must feed a value for placeholder tensor 'gradients/split_grad/concat/split/split_dim' with dtype int32\n",
      "\t [[{{node gradients/split_grad/concat/split/split_dim}}]]\n",
      "2023-04-27 10:35:16.685596: I tensorflow/core/common_runtime/executor.cc:1197] [/device:CPU:0] (DEBUG INFO) Executor start aborting (this does not indicate an error and you can ignore this message): INVALID_ARGUMENT: You must feed a value for placeholder tensor 'gradients/split_1_grad/concat/split_1/split_dim' with dtype int32\n",
      "\t [[{{node gradients/split_1_grad/concat/split_1/split_dim}}]]\n"
     ]
    },
    {
     "name": "stdout",
     "output_type": "stream",
     "text": [
      "\n",
      "Epoch 1: val_loss improved from inf to 0.58770, saving model to corruption_rnn.h5\n",
      "63/63 [==============================] - 90s 1s/step - loss: 0.5833 - accuracy: 0.8267 - val_loss: 0.5877 - val_accuracy: 0.8410\n",
      "Epoch 2/100\n",
      "63/63 [==============================] - ETA: 0s - loss: 0.4925 - accuracy: 0.8435\n",
      "Epoch 2: val_loss improved from 0.58770 to 0.56562, saving model to corruption_rnn.h5\n",
      "63/63 [==============================] - 110s 2s/step - loss: 0.4925 - accuracy: 0.8435 - val_loss: 0.5656 - val_accuracy: 0.8290\n",
      "Epoch 3/100\n",
      "63/63 [==============================] - ETA: 0s - loss: 0.4036 - accuracy: 0.8690\n",
      "Epoch 3: val_loss did not improve from 0.56562\n",
      "63/63 [==============================] - 91s 1s/step - loss: 0.4036 - accuracy: 0.8690 - val_loss: 0.5963 - val_accuracy: 0.7990\n",
      "Epoch 4/100\n",
      "63/63 [==============================] - ETA: 0s - loss: 0.3365 - accuracy: 0.8923\n",
      "Epoch 4: val_loss did not improve from 0.56562\n",
      "63/63 [==============================] - 81s 1s/step - loss: 0.3365 - accuracy: 0.8923 - val_loss: 0.6120 - val_accuracy: 0.8130\n",
      "Epoch 5/100\n",
      "63/63 [==============================] - ETA: 0s - loss: 0.2951 - accuracy: 0.9050\n",
      "Epoch 5: val_loss did not improve from 0.56562\n",
      "63/63 [==============================] - 74s 1s/step - loss: 0.2951 - accuracy: 0.9050 - val_loss: 0.6236 - val_accuracy: 0.8350\n",
      "Epoch 6/100\n",
      "63/63 [==============================] - ETA: 0s - loss: 0.2605 - accuracy: 0.9115\n",
      "Epoch 6: val_loss did not improve from 0.56562\n",
      "63/63 [==============================] - 74s 1s/step - loss: 0.2605 - accuracy: 0.9115 - val_loss: 0.6439 - val_accuracy: 0.8350\n",
      "Epoch 7/100\n",
      "63/63 [==============================] - ETA: 0s - loss: 0.2387 - accuracy: 0.9175\n",
      "Epoch 7: val_loss did not improve from 0.56562\n",
      "63/63 [==============================] - 75s 1s/step - loss: 0.2387 - accuracy: 0.9175 - val_loss: 0.6650 - val_accuracy: 0.8340\n",
      "Epoch 7: early stopping\n"
     ]
    }
   ],
   "source": [
    "# Split the data into training and validation sets\n",
    "split_ratio = 0.8\n",
    "train_size = int(len(X) * split_ratio)\n",
    "X_train, X_val = X[:train_size], X[train_size:]\n",
    "y_train, y_val = y[:train_size], y[train_size:]\n",
    "\n",
    "# Train the model with early stopping based on validation loss\n",
    "checkpoint = ModelCheckpoint(\"corruption_rnn.h5\", monitor='val_loss', save_best_only=True, verbose=1)\n",
    "early_stopping = EarlyStopping(monitor='val_loss', patience=5, verbose=1)\n",
    "\n",
    "history = model.fit(X_train, y_train, validation_data=(X_val, y_val), epochs=100, batch_size=64, callbacks=[checkpoint, early_stopping])"
   ]
  },
  {
   "cell_type": "code",
   "execution_count": 24,
   "metadata": {},
   "outputs": [],
   "source": [
    "# Generate text using the trained model\n",
    "def generate_text(seed_text, model, tokenizer, seq_length, num_chars):\n",
    "    output_text = seed_text\n",
    "\n",
    "    for _ in range(num_chars):\n",
    "        tokenized_text = tokenizer.texts_to_sequences([seed_text])[-1]\n",
    "        padded_text = pad_sequences([tokenized_text], maxlen=seq_length)\n",
    "\n",
    "        probabilities = model.predict(padded_text)[0]\n",
    "        predicted_index = np.argmax(probabilities)\n",
    "        predicted_char = tokenizer.index_word[predicted_index]\n",
    "\n",
    "        output_text += predicted_char\n",
    "        seed_text += predicted_char\n",
    "\n",
    "    return output_text"
   ]
  },
  {
   "cell_type": "code",
   "execution_count": 27,
   "metadata": {},
   "outputs": [
    {
     "name": "stdout",
     "output_type": "stream",
     "text": [
      "1/1 [==============================] - 0s 68ms/step\n",
      "1/1 [==============================] - 0s 44ms/step\n",
      "1/1 [==============================] - 0s 43ms/step\n",
      "1/1 [==============================] - 0s 49ms/step\n",
      "1/1 [==============================] - 0s 47ms/step\n",
      "1/1 [==============================] - 0s 49ms/step\n",
      "1/1 [==============================] - 0s 61ms/step\n",
      "1/1 [==============================] - 0s 49ms/step\n",
      "1/1 [==============================] - 0s 52ms/step\n",
      "1/1 [==============================] - 0s 49ms/step\n",
      "1/1 [==============================] - 0s 56ms/step\n",
      "Nigeria has a corruption score of 35 in 2016.\n"
     ]
    }
   ],
   "source": [
    "seed_text = \"Nigeria has a corruption score of \"\n",
    "generated_text = generate_text(seed_text, model, tokenizer, seq_length, 11)\n",
    "print(generated_text)\n"
   ]
  }
 ],
 "metadata": {
  "kernelspec": {
   "display_name": "Python 3",
   "language": "python",
   "name": "python3"
  },
  "language_info": {
   "codemirror_mode": {
    "name": "ipython",
    "version": 3
   },
   "file_extension": ".py",
   "mimetype": "text/x-python",
   "name": "python",
   "nbconvert_exporter": "python",
   "pygments_lexer": "ipython3",
   "version": "3.11.3"
  },
  "orig_nbformat": 4
 },
 "nbformat": 4,
 "nbformat_minor": 2
}
